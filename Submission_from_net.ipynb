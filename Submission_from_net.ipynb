{
 "cells": [
  {
   "cell_type": "code",
   "execution_count": 2,
   "metadata": {
    "executionInfo": {
     "elapsed": 22542,
     "status": "ok",
     "timestamp": 1608207746549,
     "user": {
      "displayName": "axel dinh van chi",
      "photoUrl": "",
      "userId": "10833900212226293025"
     },
     "user_tz": -60
    },
    "id": "Rr5mPmd6aPGW"
   },
   "outputs": [],
   "source": [
    "from cross_validation import *\n",
    "from losses import *\n",
    "from preprocessing import *\n",
    "from metrics import *\n",
    "from helpers import *\n",
    "from submissions import *\n",
    "from Networks import *"
   ]
  },
  {
   "cell_type": "code",
   "execution_count": 3,
   "metadata": {
    "colab": {
     "base_uri": "https://localhost:8080/"
    },
    "executionInfo": {
     "elapsed": 762,
     "status": "ok",
     "timestamp": 1608207747902,
     "user": {
      "displayName": "axel dinh van chi",
      "photoUrl": "",
      "userId": "10833900212226293025"
     },
     "user_tz": -60
    },
    "id": "MRoX1-xkaP5V",
    "outputId": "f4cc4f85-9e5f-4fb3-d3de-bae8dec6b8fb"
   },
   "outputs": [
    {
     "data": {
      "text/plain": [
       "<torch._C.Generator at 0x7fb643da4ba0>"
      ]
     },
     "execution_count": 3,
     "metadata": {
      "tags": []
     },
     "output_type": "execute_result"
    }
   ],
   "source": [
    "device = 'cuda:0' if torch.cuda.is_available() else 'cpu' \n",
    "torch.manual_seed(42) # Make the training reproducible as much as possible\n",
    "np.random.seed(0)"
   ]
  },
  {
   "cell_type": "code",
   "execution_count": 4,
   "metadata": {
    "executionInfo": {
     "elapsed": 14176,
     "status": "ok",
     "timestamp": 1608207763044,
     "user": {
      "displayName": "axel dinh van chi",
      "photoUrl": "",
      "userId": "10833900212226293025"
     },
     "user_tz": -60
    },
    "id": "jCjtNUJIacX5"
   },
   "outputs": [],
   "source": [
    "net_name = 'Unet_BCE_Dice_Crop320'\n",
    "net = net = UNet(0.5).to(device)\n",
    "net.load_state_dict(torch.load(net_name)['state'])\n",
    "net.metrics = torch.load(net_name)['metrics']"
   ]
  },
  {
   "cell_type": "code",
   "execution_count": 9,
   "metadata": {
    "colab": {
     "base_uri": "https://localhost:8080/"
    },
    "executionInfo": {
     "elapsed": 119133,
     "status": "ok",
     "timestamp": 1608207998498,
     "user": {
      "displayName": "axel dinh van chi",
      "photoUrl": "",
      "userId": "10833900212226293025"
     },
     "user_tz": -60
    },
    "id": "E11WzKGGaipM",
    "outputId": "7c189c18-9165-4411-a79e-c7c2218b2553"
   },
   "outputs": [
    {
     "name": "stdout",
     "output_type": "stream",
     "text": [
      "10/50 images loaded\n",
      "20/50 images loaded\n",
      "30/50 images loaded\n",
      "40/50 images loaded\n",
      "50/50 images loaded\n"
     ]
    }
   ],
   "source": [
    "create_submission(net, 'Best_Submission.csv', device)"
   ]
  }
 ],
 "metadata": {
  "accelerator": "GPU",
  "colab": {
   "authorship_tag": "ABX9TyOqsqCHQmSQoihFcvA0lxlv",
   "collapsed_sections": [],
   "name": "Submission_from_net.ipynb",
   "provenance": []
  },
  "kernelspec": {
   "display_name": "Python 3",
   "language": "python",
   "name": "python3"
  },
  "language_info": {
   "codemirror_mode": {
    "name": "ipython",
    "version": 3
   },
   "file_extension": ".py",
   "mimetype": "text/x-python",
   "name": "python",
   "nbconvert_exporter": "python",
   "pygments_lexer": "ipython3",
   "version": "3.8.5"
  }
 },
 "nbformat": 4,
 "nbformat_minor": 1
}
