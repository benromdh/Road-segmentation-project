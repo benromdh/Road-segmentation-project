{
 "cells": [
  {
   "cell_type": "code",
   "execution_count": null,
   "metadata": {
    "executionInfo": {
     "elapsed": 1096,
     "status": "ok",
     "timestamp": 1608208251093,
     "user": {
      "displayName": "axel dinh van chi",
      "photoUrl": "",
      "userId": "10833900212226293025"
     },
     "user_tz": -60
    },
    "id": "hKxUs9YeWpXf"
   },
   "outputs": [],
   "source": [
    "from cross_validation import *\n",
    "from losses import *\n",
    "from preprocessing import *\n",
    "from metrics import *\n",
    "from helpers import *\n",
    "from submissions import *\n",
    "from Networks import *"
   ]
  },
  {
   "cell_type": "code",
   "execution_count": null,
   "metadata": {
    "executionInfo": {
     "elapsed": 944,
     "status": "ok",
     "timestamp": 1608199521558,
     "user": {
      "displayName": "axel dinh van chi",
      "photoUrl": "",
      "userId": "10833900212226293025"
     },
     "user_tz": -60
    },
    "id": "hUVowgIOZRm8"
   },
   "outputs": [],
   "source": [
    "device = 'cuda:0' if torch.cuda.is_available() else 'cpu' \n",
    "torch.manual_seed(42) # Make the training reproducible as much as possible\n",
    "np.random.seed(0)"
   ]
  },
  {
   "cell_type": "code",
   "execution_count": null,
   "metadata": {
    "colab": {
     "base_uri": "https://localhost:8080/"
    },
    "executionInfo": {
     "elapsed": 5112,
     "status": "ok",
     "timestamp": 1608199527287,
     "user": {
      "displayName": "axel dinh van chi",
      "photoUrl": "",
      "userId": "10833900212226293025"
     },
     "user_tz": -60
    },
    "id": "0gVGHHhbY0Xw",
    "outputId": "7172f0fa-d979-46f9-c5ad-24af796acf41",
    "scrolled": true
   },
   "outputs": [],
   "source": [
    "Images, GroundTruths = get_sets()"
   ]
  },
  {
   "cell_type": "code",
   "execution_count": null,
   "metadata": {
    "executionInfo": {
     "elapsed": 7048,
     "status": "ok",
     "timestamp": 1608199535271,
     "user": {
      "displayName": "axel dinh van chi",
      "photoUrl": "",
      "userId": "10833900212226293025"
     },
     "user_tz": -60
    },
    "id": "xnDav-RmW1Wm"
   },
   "outputs": [],
   "source": [
    "Images, GroundTruths = preprocessing(Images, GroundTruths, size = 320)\n",
    "train_loader, validation_loader, test_loader = make_dataloaders(Images, GroundTruths, 0.8, 0.1, 0.1)"
   ]
  },
  {
   "cell_type": "code",
   "execution_count": null,
   "metadata": {
    "colab": {
     "base_uri": "https://localhost:8080/",
     "height": 1000
    },
    "executionInfo": {
     "elapsed": 5158085,
     "status": "ok",
     "timestamp": 1608207438720,
     "user": {
      "displayName": "axel dinh van chi",
      "photoUrl": "",
      "userId": "10833900212226293025"
     },
     "user_tz": -60
    },
    "id": "1WvT56N0pTUr",
    "outputId": "4a0d1c14-d902-41d9-e601-04f7027b0869"
   },
   "outputs": [],
   "source": [
    "net = UNet(0.5).to(device)\n",
    "criterion = BCE_Dice_Loss()\n",
    "optimizer = optim.Adam(net.parameters(), lr = 2e-4)\n",
    "scheduler = optim.lr_scheduler.ReduceLROnPlateau(optimizer, factor = 0.5)\n",
    "\n",
    "train(net, train_loader, validation_loader, criterion, optimizer, scheduler, 100, 'Best_Net', device, use_scheduler = True)"
   ]
  },
  {
   "cell_type": "code",
   "execution_count": null,
   "metadata": {
    "id": "1auyO__qWfNq",
    "scrolled": true
   },
   "outputs": [],
   "source": [
    "test(net, validation_loader, criterion, device)"
   ]
  },
  {
   "cell_type": "code",
   "execution_count": null,
   "metadata": {
    "executionInfo": {
     "elapsed": 1621,
     "status": "ok",
     "timestamp": 1608207456248,
     "user": {
      "displayName": "axel dinh van chi",
      "photoUrl": "",
      "userId": "10833900212226293025"
     },
     "user_tz": -60
    },
    "id": "VWy_jYUNpX8U"
   },
   "outputs": [],
   "source": [
    "net_name = 'Best_Net'\n",
    "net = net = UNet(0.5).to(device)\n",
    "net.load_state_dict(torch.load(net_name)['state'])\n",
    "net.metrics = torch.load(net_name)['metrics']"
   ]
  },
  {
   "cell_type": "code",
   "execution_count": null,
   "metadata": {
    "colab": {
     "base_uri": "https://localhost:8080/"
    },
    "executionInfo": {
     "elapsed": 169707,
     "status": "ok",
     "timestamp": 1608207627761,
     "user": {
      "displayName": "axel dinh van chi",
      "photoUrl": "",
      "userId": "10833900212226293025"
     },
     "user_tz": -60
    },
    "id": "OdJ2vKWKEnvA",
    "outputId": "130d6aeb-4c55-42de-d26f-d8b09f0173f2"
   },
   "outputs": [],
   "source": [
    "create_submission(net, 'Best_Submission.csv', device)"
   ]
  }
 ],
 "metadata": {
  "accelerator": "GPU",
  "colab": {
   "collapsed_sections": [],
   "name": "Final_Submission.ipynb",
   "provenance": []
  },
  "kernelspec": {
   "display_name": "Python 3",
   "language": "python",
   "name": "python3"
  },
  "language_info": {
   "codemirror_mode": {
    "name": "ipython",
    "version": 3
   },
   "file_extension": ".py",
   "mimetype": "text/x-python",
   "name": "python",
   "nbconvert_exporter": "python",
   "pygments_lexer": "ipython3",
   "version": "3.8.5"
  }
 },
 "nbformat": 4,
 "nbformat_minor": 1
}
